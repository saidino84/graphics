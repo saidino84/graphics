{
 "cells": [
  {
   "cell_type": "code",
   "execution_count": 18,
   "metadata": {},
   "outputs": [
    {
     "name": "stdout",
     "output_type": "stream",
     "text": [
      "[('a', 'b'), ('c', 'd'), ('f', 'g')]\n",
      "[('a', 'b'), ('c', 'd'), ('f', 'g')]\n"
     ]
    },
    {
     "data": {
      "text/plain": [
       "[(200, 200), (210, 200), (220, 220)]"
      ]
     },
     "execution_count": 18,
     "metadata": {},
     "output_type": "execute_result"
    }
   ],
   "source": [
    "snake=[(200,200),(210,200),(220,220)]\n",
    "snake_pos=[(\"a\",\"b\"),(\"c\",\"d\"),(\"f\",\"g\")]\n",
    "novos=[(\"a\",\"b\"),(\"c\",\"d\"),(\"f\",\"g\")]\n",
    "for i in range(len(snake)-1,0,-1):\n",
    "    snake_pos[i]=(snake[i][0],snake[i][1])\n",
    "    # novos[i]=x\n",
    "    print(novos)\n",
    "snake"
   ]
  },
  {
   "cell_type": "code",
   "execution_count": 2,
   "metadata": {},
   "outputs": [
    {
     "name": "stdout",
     "output_type": "stream",
     "text": [
      "Direction.LEFT\n"
     ]
    }
   ],
   "source": [
    "from enum import Enum\n",
    "\n",
    "class Direction(Enum):\n",
    "    UP=8 \n",
    "    DOWN=2\n",
    "    LEFT =4\n",
    "    RIGHT =6\n",
    "print(Direction.LEFT)\n",
    "\n",
    "dir=input(\"Number\")\n",
    " \n"
   ]
  }
 ],
 "metadata": {
  "kernelspec": {
   "display_name": "Python 3",
   "language": "python",
   "name": "python3"
  },
  "language_info": {
   "codemirror_mode": {
    "name": "ipython",
    "version": 3
   },
   "file_extension": ".py",
   "mimetype": "text/x-python",
   "name": "python",
   "nbconvert_exporter": "python",
   "pygments_lexer": "ipython3",
   "version": "3.11.1"
  },
  "orig_nbformat": 4
 },
 "nbformat": 4,
 "nbformat_minor": 2
}
